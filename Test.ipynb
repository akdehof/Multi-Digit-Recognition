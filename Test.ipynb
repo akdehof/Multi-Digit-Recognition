{
 "cells": [
  {
   "cell_type": "code",
   "execution_count": 1,
   "metadata": {
    "collapsed": true
   },
   "outputs": [],
   "source": [
    "import os\n",
    "import tensorflow as tf\n",
    "from model import Model\n",
    "import json\n"
   ]
  },
  {
   "cell_type": "code",
   "execution_count": 2,
   "metadata": {
    "collapsed": true
   },
   "outputs": [],
   "source": [
    "#Data cleaning and preprocessing, read image and convert to training batch\n",
    "def build_batch(path_to_tfrecords_file, num_examples, batch_size, shuffled):\n",
    "    assert tf.gfile.Exists(path_to_tfrecords_file), '%s not found' % path_to_tfrecords_file\n",
    "\n",
    "    filename_queue = tf.train.string_input_producer([path_to_tfrecords_file], num_epochs=None)\n",
    "    #image, length, digits = read_and_decode(filename_queue)\n",
    "\n",
    "    reader = tf.TFRecordReader()\n",
    "    _, serialized_example = reader.read(filename_queue)\n",
    "    features = tf.parse_single_example(\n",
    "            serialized_example,\n",
    "            features={\n",
    "                'image': tf.FixedLenFeature([], tf.string),\n",
    "                'length': tf.FixedLenFeature([], tf.int64),\n",
    "                'digits': tf.FixedLenFeature([5], tf.int64)\n",
    "            })\n",
    "\n",
    "    image = tf.decode_raw(features['image'], tf.uint8)\n",
    "    image = tf.image.convert_image_dtype(image, dtype=tf.float32)\n",
    "    image = tf.multiply(tf.subtract(image, 0.5), 2)\n",
    "    image = tf.reshape(image, [64, 64, 3])\n",
    "    image = tf.random_crop(image, [54, 54, 3])\n",
    "    \n",
    "    length = tf.cast(features['length'], tf.int32)\n",
    "    digits = tf.cast(features['digits'], tf.int32)\n",
    "    \n",
    "    \n",
    "    \n",
    "    min_queue_examples = int(0.4 * num_examples)\n",
    "\n",
    "    image_batch, length_batch, digits_batch = tf.train.batch([image, length, digits],\n",
    "                                                                     batch_size=batch_size,\n",
    "                                                                     num_threads=2,\n",
    "                                                                     capacity=min_queue_examples + 3 * batch_size)\n",
    "    return image_batch, length_batch, digits_batch\n"
   ]
  },
  {
   "cell_type": "code",
   "execution_count": 3,
   "metadata": {
    "collapsed": true
   },
   "outputs": [],
   "source": [
    "#Used for evaluate the accuracy of the model\n",
    "class Evaluator(object):\n",
    "    def __init__(self, path_to_eval_log_dir):\n",
    "        self.summary_writer = tf.summary.FileWriter(path_to_eval_log_dir)\n",
    "\n",
    "\n",
    " \n",
    "    def evaluate(self, path_to_checkpoint, path_to_tfrecords_file, num_examples, global_step):\n",
    "        batch_size = 128\n",
    "        num_batches = num_examples // batch_size\n",
    "        needs_include_length = False\n",
    "\n",
    "        with tf.Graph().as_default():\n",
    "            image_batch, length_batch, digits_batch = build_batch(path_to_tfrecords_file,\n",
    "                                                                         num_examples=num_examples,\n",
    "                                                                         batch_size=batch_size,\n",
    "                                                                         shuffled=False)\n",
    "            length_logits, digits_logits = Model.inference(image_batch, drop_rate=0.0)\n",
    "            length_predictions = tf.argmax(length_logits, axis=1)\n",
    "            digits_predictions = tf.argmax(digits_logits, axis=2)\n",
    "\n",
    "            if needs_include_length:\n",
    "                labels = tf.concat([tf.reshape(length_batch, [-1, 1]), digits_batch], axis=1)\n",
    "                predictions = tf.concat([tf.reshape(length_predictions, [-1, 1]), digits_predictions], axis=1)\n",
    "            else:\n",
    "                labels = digits_batch\n",
    "                predictions = digits_predictions\n",
    "\n",
    "            labels_string = tf.reduce_join(tf.as_string(labels), axis=1)\n",
    "            predictions_string = tf.reduce_join(tf.as_string(predictions), axis=1)\n",
    "\n",
    "            accuracy, update_accuracy = tf.metrics.accuracy(\n",
    "                labels=labels_string,\n",
    "                predictions=predictions_string\n",
    "            )\n",
    "\n",
    "            tf.summary.image('image', image_batch)\n",
    "            tf.summary.scalar('accuracy', accuracy)\n",
    "            tf.summary.histogram('variables',\n",
    "                                 tf.concat([tf.reshape(var, [-1]) for var in tf.trainable_variables()], axis=0))\n",
    "            summary = tf.summary.merge_all()\n",
    "\n",
    "            with tf.Session() as sess:\n",
    "                sess.run([tf.global_variables_initializer(), tf.local_variables_initializer()])\n",
    "                coord = tf.train.Coordinator()\n",
    "                threads = tf.train.start_queue_runners(sess=sess, coord=coord)\n",
    "\n",
    "                restorer = tf.train.Saver()\n",
    "                restorer.restore(sess, path_to_checkpoint)\n",
    "\n",
    "                for _ in range(num_batches):\n",
    "                    sess.run(update_accuracy)\n",
    "\n",
    "                accuracy_val, summary_val = sess.run([accuracy, summary])\n",
    "                self.summary_writer.add_summary(summary_val, global_step=global_step)\n",
    "\n",
    "                coord.request_stop()\n",
    "                coord.join(threads)\n",
    "\n",
    "        return accuracy_val\n",
    "\n"
   ]
  },
  {
   "cell_type": "code",
   "execution_count": 4,
   "metadata": {
    "collapsed": true
   },
   "outputs": [],
   "source": [
    "# start the testing progress\n",
    "path_to_train_tfrecords_file = './data/train.tfrecords'\n",
    "path_to_val_tfrecords_file = './data/val.tfrecords'\n",
    "path_to_test_tfrecords_file = './data/test.tfrecords'\n",
    "path_to_tfrecords_meta_file = './data/meta.json'\n",
    "path_to_checkpoint_dir = './logs/train'\n",
    "path_to_train_eval_log_dir = './logs/eval/train'\n",
    "path_to_val_eval_log_dir = './logs/eval/val'\n",
    "path_to_test_eval_log_dir = './logs/eval/test'\n",
    "\n",
    "\n",
    "with open(path_to_tfrecords_meta_file, 'r') as f:\n",
    "        content = json.load(f)\n",
    "        num_train_examples = content['num_examples']['train']\n",
    "        num_val_examples = content['num_examples']['val']\n",
    "        num_test_examples = content['num_examples']['test']\n",
    "    \n",
    "\n",
    "evaluator = Evaluator(path_to_test_eval_log_dir)\n",
    "\n",
    "checkpoint_paths = tf.train.get_checkpoint_state(path_to_checkpoint_dir).all_model_checkpoint_paths\n",
    "\n",
    "for global_step, path_to_checkpoint in [(path.split('-')[-1], path) for path in checkpoint_paths]:\n",
    "    \n",
    "\n",
    "    try:\n",
    "        global_step_val = int(global_step)   \n",
    "        \n",
    "    except ValueError:\n",
    "        continue\n",
    "\n",
    "        \n",
    "    accuracy = evaluator.evaluate(path_to_checkpoint, path_to_test_tfrecords_file, num_test_examples,\n",
    "                                      global_step_val)\n",
    "    print ('Evaluate the model %s on %s, test accuracy is = %f' % (path_to_checkpoint, path_to_test_tfrecords_file, accuracy))\n"
   ]
  },
  {
   "cell_type": "code",
   "execution_count": null,
   "metadata": {
    "collapsed": true
   },
   "outputs": [],
   "source": []
  }
 ],
 "metadata": {
  "kernelspec": {
   "display_name": "Python 3",
   "language": "python",
   "name": "python3"
  },
  "language_info": {
   "codemirror_mode": {
    "name": "ipython",
    "version": 3
   },
   "file_extension": ".py",
   "mimetype": "text/x-python",
   "name": "python",
   "nbconvert_exporter": "python",
   "pygments_lexer": "ipython3",
   "version": "3.6.1"
  }
 },
 "nbformat": 4,
 "nbformat_minor": 2
}
